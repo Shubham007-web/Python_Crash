{
 "cells": [
  {
   "cell_type": "markdown",
   "id": "eee5eaf9",
   "metadata": {},
   "source": [
    "### If - Else"
   ]
  },
  {
   "cell_type": "markdown",
   "id": "6c677ff4",
   "metadata": {},
   "source": [
    "#### For a given age, write a Python program to check whether he/she is eligible to vote or not.\n",
    "age = 21"
   ]
  },
  {
   "cell_type": "code",
   "execution_count": null,
   "id": "d42ce195",
   "metadata": {},
   "outputs": [],
   "source": []
  },
  {
   "cell_type": "markdown",
   "id": "4f8dc180",
   "metadata": {},
   "source": [
    "#### Write a program to find whether the given word is palindrome or not."
   ]
  },
  {
   "cell_type": "code",
   "execution_count": null,
   "id": "2439ead7",
   "metadata": {},
   "outputs": [],
   "source": []
  },
  {
   "cell_type": "markdown",
   "id": "b02f7892",
   "metadata": {},
   "source": [
    "#### You are managing an online store, and you want to calculate the total cost for customers based on their purchase amount and any discounts they may receive. The discount calculation is as follows:\n",
    "\n",
    "* If a customer's purchase amount is less than 50, they do not receive a discount.\n",
    "* If a customer's purchase amount is between 50 and 100, they receive a 5% discount.\n",
    "* If a customer's purchase amount is between 101 and 200, they receive a 10% discount.\n",
    "* If a customer's purchase amount is above 200, they receive a 15% discount.\n",
    "\n",
    "Write a Python program that takes input of the purchase amount from the customer and prints the final amount."
   ]
  },
  {
   "cell_type": "code",
   "execution_count": null,
   "id": "f482c649",
   "metadata": {},
   "outputs": [],
   "source": []
  },
  {
   "cell_type": "markdown",
   "id": "e398c13f",
   "metadata": {},
   "source": [
    "### Loops - For loop and While Loop"
   ]
  },
  {
   "cell_type": "markdown",
   "id": "d088dc1f",
   "metadata": {},
   "source": [
    "#### For a given list of colours. Find the colours present in the rainbow.\n",
    "Hint : The colours in the rainbow are: 'Voilet','Indigo','Blue','Green','Yellow','Orange','Red'\n",
    "\n",
    "colours = ['White','Red','Cyan','Pink','Green','Voilet','Brown','Purple','Black','Blue','Yellow','Orange']\n"
   ]
  },
  {
   "cell_type": "code",
   "execution_count": null,
   "id": "64863cc3",
   "metadata": {},
   "outputs": [],
   "source": []
  },
  {
   "cell_type": "markdown",
   "id": "a3b89b8c",
   "metadata": {},
   "source": [
    "#### You have a list of temperatures in Celsius for a week. Write a Python program using a for loop to convert these temperatures to Fahrenheit and store them in a new list.\n",
    "\n",
    "Celsius Temperatures: [23, 17, 25, 19, 22, 21, 20]\n",
    "\n",
    "Fahrenheit Temperatures: [73.4, 62.6, 77.0, 66.2, 71.6, 69.8, 68.0]"
   ]
  },
  {
   "cell_type": "code",
   "execution_count": null,
   "id": "55a7f9bf",
   "metadata": {},
   "outputs": [],
   "source": []
  },
  {
   "cell_type": "markdown",
   "id": "de0c8f0d",
   "metadata": {},
   "source": [
    "#### Write a python program to check whether a number is prime or not?"
   ]
  },
  {
   "cell_type": "code",
   "execution_count": null,
   "id": "92660df6",
   "metadata": {},
   "outputs": [],
   "source": []
  },
  {
   "cell_type": "markdown",
   "id": "307726e4",
   "metadata": {},
   "source": [
    "#### Write a python program to find the number in between 1 and 20 to which are not divisible by 3 or 5."
   ]
  },
  {
   "cell_type": "code",
   "execution_count": null,
   "id": "11d1fe4c",
   "metadata": {},
   "outputs": [],
   "source": []
  },
  {
   "cell_type": "code",
   "execution_count": null,
   "id": "287242ff",
   "metadata": {},
   "outputs": [],
   "source": []
  },
  {
   "cell_type": "markdown",
   "id": "4aa8feb5",
   "metadata": {},
   "source": [
    "#### Write a python program to remove a given character from string.\n",
    "\n",
    "Input: Hello World\n",
    "\n",
    "character_to_remove = o\n",
    "\n",
    "Output: Hell Wrld"
   ]
  },
  {
   "cell_type": "code",
   "execution_count": null,
   "id": "61311b9f",
   "metadata": {},
   "outputs": [],
   "source": []
  },
  {
   "cell_type": "code",
   "execution_count": null,
   "id": "9ef8a288",
   "metadata": {},
   "outputs": [],
   "source": []
  },
  {
   "cell_type": "markdown",
   "id": "d7bcd63f",
   "metadata": {},
   "source": [
    "#### Write a Python program to remove None value from a given list.\n",
    "\n",
    "Input:\n",
    "[12, 0, None, 23, None, -55, 234, 89, None, 0, 6, -12]\n",
    "\n",
    "Output:\n",
    "[12, 0, 23, -55, 234, 89, 0, 6, -12]"
   ]
  },
  {
   "cell_type": "code",
   "execution_count": null,
   "id": "89c15f8f",
   "metadata": {},
   "outputs": [],
   "source": []
  },
  {
   "cell_type": "markdown",
   "id": "1de00f8c",
   "metadata": {},
   "source": []
  },
  {
   "cell_type": "code",
   "execution_count": null,
   "id": "c804c5ea",
   "metadata": {},
   "outputs": [],
   "source": []
  },
  {
   "cell_type": "markdown",
   "id": "f77e81d9",
   "metadata": {},
   "source": [
    "#### You are given a list of age of students from a college in survey. Write a program to find index of the those students who are eligible to vote.\n",
    "\n",
    "Input : student_ages = [18, 16, 22, 19, 20, 17, 24, 21, 15, 23]\n",
    "\n",
    "Output : Indices of Eligible Voters: [0, 2, 3, 4, 6, 7, 9]"
   ]
  },
  {
   "cell_type": "code",
   "execution_count": null,
   "id": "9904fec9",
   "metadata": {},
   "outputs": [],
   "source": []
  },
  {
   "cell_type": "code",
   "execution_count": null,
   "id": "2b6d53da",
   "metadata": {},
   "outputs": [],
   "source": []
  },
  {
   "cell_type": "markdown",
   "id": "3874939b",
   "metadata": {},
   "source": [
    "#### Write a Python program to remove specific words from a given list.\n",
    "\n",
    "Example 1:\n",
    "Input:\n",
    "['red', 'green', 'blue', 'white', 'black', 'orange']\n",
    "\n",
    "List to Remove : ['white', 'orange']\n",
    "\n",
    "Output:\n",
    "['red', 'green', 'blue', 'black']"
   ]
  },
  {
   "cell_type": "code",
   "execution_count": null,
   "id": "a879e5c5",
   "metadata": {},
   "outputs": [],
   "source": []
  },
  {
   "cell_type": "markdown",
   "id": "7ea17e6e",
   "metadata": {},
   "source": [
    "#### Write a program to find the names of learners starting with the letter 'a'.\n",
    "\n",
    "names = ['Arun','Varun','Vishal','Alex','Sandhaya']\n"
   ]
  },
  {
   "cell_type": "code",
   "execution_count": null,
   "id": "f0f4d288",
   "metadata": {},
   "outputs": [],
   "source": []
  },
  {
   "cell_type": "markdown",
   "id": "233f0fc4",
   "metadata": {},
   "source": [
    "#### Find the index of those number which are divisible by 3 from the list given below.\n",
    "\n",
    "Number = [95, 58, 75, 14, 26, 4, 87, 52, 3, 25, 62, 44, 875, 46, 85, 42, 645, 6, 265]\n"
   ]
  },
  {
   "cell_type": "code",
   "execution_count": null,
   "id": "30c249b2",
   "metadata": {},
   "outputs": [],
   "source": []
  },
  {
   "cell_type": "markdown",
   "id": "31453002",
   "metadata": {},
   "source": [
    "#### Write a Python program to find the largest negative and smallest positive numbers (or 0 if none).\n",
    "\n",
    "Input: numbers = [-5, 3, 0, -12, 8, -3, 2, -10, 7]\n",
    "\n",
    "Output:\n",
    "\n",
    "Largest Negative Number: -3\n",
    "\n",
    "Smallest Positive Number: 2"
   ]
  },
  {
   "cell_type": "code",
   "execution_count": null,
   "id": "08d7947e",
   "metadata": {},
   "outputs": [],
   "source": []
  },
  {
   "cell_type": "markdown",
   "id": "6f58d415",
   "metadata": {},
   "source": [
    "#### Write a Python program to calculate and print the sum of all numbers from 1 to 50 using a while loop."
   ]
  },
  {
   "cell_type": "code",
   "execution_count": null,
   "id": "9ffeb87f",
   "metadata": {},
   "outputs": [],
   "source": []
  },
  {
   "cell_type": "markdown",
   "id": "a669384b",
   "metadata": {},
   "source": [
    "#### Write a program to reverse a given integer using loop and Check whether the number is palindrome or not ?\n",
    "\n",
    "number = 1234321"
   ]
  },
  {
   "cell_type": "code",
   "execution_count": null,
   "id": "eaf09fc8",
   "metadata": {},
   "outputs": [],
   "source": []
  },
  {
   "cell_type": "markdown",
   "id": "97fee570",
   "metadata": {},
   "source": [
    "#### Write a Python program to find the factorial of a number using While loop."
   ]
  },
  {
   "cell_type": "code",
   "execution_count": null,
   "id": "3db15e1a",
   "metadata": {},
   "outputs": [],
   "source": []
  },
  {
   "cell_type": "markdown",
   "id": "2b1596a3",
   "metadata": {},
   "source": [
    "### Additional Questions"
   ]
  },
  {
   "cell_type": "markdown",
   "id": "94f4e179",
   "metadata": {},
   "source": [
    "#### Write a python program to print the pattern below:"
   ]
  },
  {
   "cell_type": "raw",
   "id": "fc9db9ea",
   "metadata": {},
   "source": [
    "* * * * * \n",
    "* * * * * \n",
    "* * * * * \n",
    "* * * * *\n",
    "* * * * *"
   ]
  },
  {
   "cell_type": "code",
   "execution_count": null,
   "id": "49d4825c",
   "metadata": {},
   "outputs": [],
   "source": []
  },
  {
   "cell_type": "raw",
   "id": "efd40c8b",
   "metadata": {},
   "source": [
    "* \n",
    "* *  \n",
    "* * *  \n",
    "* * * * \n",
    "* * * * *"
   ]
  },
  {
   "cell_type": "code",
   "execution_count": null,
   "id": "3cdb87e6",
   "metadata": {},
   "outputs": [],
   "source": []
  },
  {
   "cell_type": "raw",
   "id": "cfdf25c6",
   "metadata": {},
   "source": [
    "* * * * * \n",
    "* * * * \n",
    "* * *  \n",
    "* * \n",
    "* "
   ]
  },
  {
   "cell_type": "code",
   "execution_count": null,
   "id": "ed966023",
   "metadata": {},
   "outputs": [],
   "source": []
  },
  {
   "cell_type": "raw",
   "id": "0a4ed6a7",
   "metadata": {},
   "source": [
    "0\n",
    "1 2\n",
    "3 4 5\n",
    "6 7 8 9"
   ]
  },
  {
   "cell_type": "code",
   "execution_count": null,
   "id": "27f83537",
   "metadata": {},
   "outputs": [],
   "source": []
  },
  {
   "cell_type": "raw",
   "id": "a5258f20",
   "metadata": {},
   "source": [
    "1\n",
    "1 2 \n",
    "1 2 3\n",
    "1 2 3 4 "
   ]
  },
  {
   "cell_type": "code",
   "execution_count": null,
   "id": "01ee8fa1",
   "metadata": {},
   "outputs": [],
   "source": []
  },
  {
   "cell_type": "raw",
   "id": "a3295d3d",
   "metadata": {},
   "source": [
    "Given two string :\n",
    "x = \"ABCD\"\n",
    "y = \"PQR\"\n",
    "\n",
    "Print the pattern given below using strings x and y."
   ]
  },
  {
   "cell_type": "raw",
   "id": "74dbd569",
   "metadata": {},
   "source": [
    "A P Q R\n",
    "A B Q R\n",
    "A B C R\n",
    "A B C D "
   ]
  },
  {
   "cell_type": "code",
   "execution_count": null,
   "id": "c27e26e4",
   "metadata": {},
   "outputs": [],
   "source": []
  },
  {
   "cell_type": "code",
   "execution_count": null,
   "id": "a6a600fc",
   "metadata": {},
   "outputs": [],
   "source": []
  },
  {
   "cell_type": "code",
   "execution_count": null,
   "id": "fe780047",
   "metadata": {},
   "outputs": [],
   "source": []
  },
  {
   "cell_type": "code",
   "execution_count": null,
   "id": "387e7135",
   "metadata": {},
   "outputs": [],
   "source": []
  },
  {
   "cell_type": "code",
   "execution_count": null,
   "id": "8c3648d9",
   "metadata": {},
   "outputs": [],
   "source": []
  },
  {
   "cell_type": "markdown",
   "id": "e63b743e",
   "metadata": {},
   "source": [
    "#### Write a Python program to find and print all the pairs of numbers from an array that add up to a specific target sum. For example, given [2, 7, 11, 15] and a target of 9, the program should output (2, 7)."
   ]
  },
  {
   "cell_type": "code",
   "execution_count": null,
   "id": "d6d77682",
   "metadata": {},
   "outputs": [],
   "source": []
  },
  {
   "cell_type": "code",
   "execution_count": null,
   "id": "0f4ec235",
   "metadata": {},
   "outputs": [],
   "source": []
  },
  {
   "cell_type": "code",
   "execution_count": null,
   "id": "1f295118",
   "metadata": {},
   "outputs": [],
   "source": []
  },
  {
   "cell_type": "markdown",
   "id": "c51cbbf5",
   "metadata": {},
   "source": [
    "#### Write a python program to check a given number is perfect or not.\n",
    "\n",
    "Note: A perfect number is a positive integer that is equal to the sum of its positive divisors, excluding the number itself.\n",
    "\n",
    "Lets understand it with example\n",
    "\n",
    "6 is a positive number and its divisor is 1,2,3 and 6 itself.\n",
    "\n",
    "But we should not include 6 as by the definition of perfect number.\n",
    "\n",
    "Lets add its divisor excluding itself\n",
    "\n",
    "1+2+3 = 6 which is equal to number itself.\n",
    "\n",
    "It means 6 is a Perfect Number"
   ]
  },
  {
   "cell_type": "code",
   "execution_count": null,
   "id": "e51cb46e",
   "metadata": {},
   "outputs": [],
   "source": []
  },
  {
   "cell_type": "markdown",
   "id": "29330ac7",
   "metadata": {},
   "source": [
    "#### Write a Python program to check if a given number is an Armstrong number or not. \n",
    "#### The program should take an integer as input and determine if it's an Armstrong number. \n",
    "\n",
    " #### An Armstrong number is an n-digit number that is equal to the sum of its own digits each raised to the power of n.\n",
    " #### For example $153 = 1^3 + 5^3 +3^3 $"
   ]
  },
  {
   "cell_type": "code",
   "execution_count": null,
   "id": "4ffd8abf",
   "metadata": {},
   "outputs": [],
   "source": []
  },
  {
   "cell_type": "code",
   "execution_count": null,
   "id": "48ebf69d",
   "metadata": {},
   "outputs": [],
   "source": []
  },
  {
   "cell_type": "code",
   "execution_count": null,
   "id": "31658bf3",
   "metadata": {},
   "outputs": [],
   "source": []
  }
 ],
 "metadata": {
  "kernelspec": {
   "display_name": "Python 3 (ipykernel)",
   "language": "python",
   "name": "python3"
  },
  "language_info": {
   "codemirror_mode": {
    "name": "ipython",
    "version": 3
   },
   "file_extension": ".py",
   "mimetype": "text/x-python",
   "name": "python",
   "nbconvert_exporter": "python",
   "pygments_lexer": "ipython3",
   "version": "3.11.3"
  }
 },
 "nbformat": 4,
 "nbformat_minor": 5
}
