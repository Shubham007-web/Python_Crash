{
 "cells": [
  {
   "cell_type": "markdown",
   "id": "04a503b2",
   "metadata": {},
   "source": [
    "# Python Day3\n",
    "\n",
    "## Table of contents\n",
    "\n",
    "1. Zip, enumarate\n",
    "2. List and dicitionary Comprehension\n",
    "3. Functions Executions \n",
    "    - User-Defined Functions (UDF)\n",
    "    - Built-in Functions\n",
    "    - Practical Exercise: Creating and Using Functions\n"
   ]
  },
  {
   "cell_type": "code",
   "execution_count": 1,
   "id": "058ae3bf",
   "metadata": {},
   "outputs": [],
   "source": [
    "x = [1,2,3,4]\n",
    "y = [\"Hello\",\"Hi\",\"Nehao\",\"Namste\"]"
   ]
  },
  {
   "cell_type": "code",
   "execution_count": 4,
   "id": "14bab162",
   "metadata": {},
   "outputs": [
    {
     "data": {
      "text/plain": [
       "[(1, 'Hello'), (2, 'Hi'), (3, 'Nehao'), (4, 'Namste')]"
      ]
     },
     "execution_count": 4,
     "metadata": {},
     "output_type": "execute_result"
    }
   ],
   "source": [
    "l = zip(x,y)\n",
    "list(l)"
   ]
  },
  {
   "cell_type": "code",
   "execution_count": 8,
   "id": "4814d5ac",
   "metadata": {},
   "outputs": [
    {
     "data": {
      "text/plain": [
       "[(0, [1, 2, 3, 4]), (1, ['Hello', 'Hi', 'Nehao', 'Namste'])]"
      ]
     },
     "execution_count": 8,
     "metadata": {},
     "output_type": "execute_result"
    }
   ],
   "source": [
    "e = enumerate([x,y])\n",
    "list(e)"
   ]
  },
  {
   "cell_type": "code",
   "execution_count": 13,
   "id": "7b1b3c72",
   "metadata": {},
   "outputs": [],
   "source": [
    "l = zip(x,y)\n",
    "en = enumerate(l)"
   ]
  },
  {
   "cell_type": "code",
   "execution_count": null,
   "id": "deb46d22",
   "metadata": {},
   "outputs": [],
   "source": []
  }
 ],
 "metadata": {
  "kernelspec": {
   "display_name": "Python 3 (ipykernel)",
   "language": "python",
   "name": "python3"
  },
  "language_info": {
   "codemirror_mode": {
    "name": "ipython",
    "version": 3
   },
   "file_extension": ".py",
   "mimetype": "text/x-python",
   "name": "python",
   "nbconvert_exporter": "python",
   "pygments_lexer": "ipython3",
   "version": "3.11.3"
  }
 },
 "nbformat": 4,
 "nbformat_minor": 5
}
