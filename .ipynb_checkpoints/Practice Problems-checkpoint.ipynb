{
 "cells": [
  {
   "cell_type": "markdown",
   "id": "6d42c2a0",
   "metadata": {},
   "source": [
    "# Pratice questions\n",
    "---\n",
    "\n",
    "### Numeric Data\n",
    "### Q1. Create a string variable with the value \"DataScience\" and print its length."
   ]
  },
  {
   "cell_type": "code",
   "execution_count": null,
   "id": "7b04534a",
   "metadata": {},
   "outputs": [],
   "source": []
  },
  {
   "cell_type": "code",
   "execution_count": null,
   "id": "0703584d",
   "metadata": {},
   "outputs": [],
   "source": []
  },
  {
   "cell_type": "markdown",
   "id": "ae354760",
   "metadata": {},
   "source": [
    "### Q2. Extract the first 4 characters from the string \"MachineLearning\"."
   ]
  },
  {
   "cell_type": "code",
   "execution_count": null,
   "id": "d2ffb8e3",
   "metadata": {},
   "outputs": [],
   "source": []
  },
  {
   "cell_type": "code",
   "execution_count": null,
   "id": "2400ee4b",
   "metadata": {},
   "outputs": [],
   "source": []
  },
  {
   "cell_type": "markdown",
   "id": "980cd4bd",
   "metadata": {},
   "source": [
    "### Q3. Create a list of the first five prime numbers and print it."
   ]
  },
  {
   "cell_type": "code",
   "execution_count": null,
   "id": "fc366d67",
   "metadata": {},
   "outputs": [],
   "source": []
  }
 ],
 "metadata": {
  "kernelspec": {
   "display_name": "Python 3 (ipykernel)",
   "language": "python",
   "name": "python3"
  },
  "language_info": {
   "codemirror_mode": {
    "name": "ipython",
    "version": 3
   },
   "file_extension": ".py",
   "mimetype": "text/x-python",
   "name": "python",
   "nbconvert_exporter": "python",
   "pygments_lexer": "ipython3",
   "version": "3.11.3"
  }
 },
 "nbformat": 4,
 "nbformat_minor": 5
}
