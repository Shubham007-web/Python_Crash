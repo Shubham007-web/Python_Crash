{
 "cells": [
  {
   "cell_type": "markdown",
   "id": "6d42c2a0",
   "metadata": {},
   "source": [
    "# Pratice questions\n",
    "---\n",
    "\n",
    "## String\n",
    "\n",
    "### Q1. Create a string variable with the value \"DataScience\" and print its length. (E)"
   ]
  },
  {
   "cell_type": "code",
   "execution_count": 1,
   "id": "78f33a98",
   "metadata": {},
   "outputs": [
    {
     "name": "stdout",
     "output_type": "stream",
     "text": [
      "12\n"
     ]
    }
   ],
   "source": [
    "str1 = \"Data Science\"\n",
    "\n",
    "print(len(str1))\n",
    "    "
   ]
  },
  {
   "cell_type": "markdown",
   "id": "ae354760",
   "metadata": {},
   "source": [
    "### Q2. Extract the first 4 characters from the string \"Machine Learning\". (E)"
   ]
  },
  {
   "cell_type": "code",
   "execution_count": 4,
   "id": "d2ffb8e3",
   "metadata": {},
   "outputs": [
    {
     "name": "stdout",
     "output_type": "stream",
     "text": [
      "Mach\n"
     ]
    }
   ],
   "source": [
    "str2 = \"Machine Learning\"\n",
    "print(str2[:4])"
   ]
  },
  {
   "cell_type": "markdown",
   "id": "5ec2df9a",
   "metadata": {},
   "source": [
    "### Q3. Convert the string \"data science\" to uppercase and split it at the space. (M)"
   ]
  },
  {
   "cell_type": "code",
   "execution_count": 5,
   "id": "f96aa6ba",
   "metadata": {},
   "outputs": [
    {
     "data": {
      "text/plain": [
       "'DATA SCIENCE'"
      ]
     },
     "execution_count": 5,
     "metadata": {},
     "output_type": "execute_result"
    }
   ],
   "source": [
    "str3 = \"data science\"\n",
    "str3.upper()"
   ]
  },
  {
   "cell_type": "code",
   "execution_count": 6,
   "id": "d466cc52",
   "metadata": {},
   "outputs": [
    {
     "data": {
      "text/plain": [
       "['data', 'science']"
      ]
     },
     "execution_count": 6,
     "metadata": {},
     "output_type": "execute_result"
    }
   ],
   "source": [
    "str3.split(' ')"
   ]
  },
  {
   "cell_type": "markdown",
   "id": "4732a202",
   "metadata": {},
   "source": [
    "### Q4. Check if the string \"regression\" exists within the string \"Linear regression is a fundamental algorithm.\" (M)"
   ]
  },
  {
   "cell_type": "code",
   "execution_count": 8,
   "id": "f047dddf",
   "metadata": {},
   "outputs": [],
   "source": [
    "str1 = \"Linear regression is a fundamental algorithm.\"\n",
    "str2 = \"regression\""
   ]
  },
  {
   "cell_type": "code",
   "execution_count": 9,
   "id": "bcbe5e1e",
   "metadata": {},
   "outputs": [
    {
     "data": {
      "text/plain": [
       "True"
      ]
     },
     "execution_count": 9,
     "metadata": {},
     "output_type": "execute_result"
    }
   ],
   "source": [
    "str2 in str1"
   ]
  },
  {
   "cell_type": "markdown",
   "id": "31ebf2fb",
   "metadata": {},
   "source": [
    "### Q5. Write a program to swap the first and last character of a string.\n",
    "#### For example : Hardik Pandya  -  aardik PandyH\n"
   ]
  },
  {
   "cell_type": "code",
   "execution_count": 12,
   "id": "0b73b81a",
   "metadata": {},
   "outputs": [],
   "source": [
    "str1 = \"Hardik Pandya\""
   ]
  },
  {
   "cell_type": "code",
   "execution_count": 13,
   "id": "f002461a",
   "metadata": {},
   "outputs": [
    {
     "name": "stdout",
     "output_type": "stream",
     "text": [
      "aardik PandyH\n"
     ]
    }
   ],
   "source": [
    "str2 = str1[-1] + str1[1:-1] + str1[0]\n",
    "print(str2)"
   ]
  },
  {
   "cell_type": "markdown",
   "id": "e0580ab5",
   "metadata": {},
   "source": [
    "## List"
   ]
  },
  {
   "cell_type": "markdown",
   "id": "980cd4bd",
   "metadata": {},
   "source": [
    "### Q1. Given a list representing the monthly sales quantities of a company's products.\n",
    "Sales = [40, 34, 48, 74, 84, 89, 52, 47, 75, 56, 42]"
   ]
  },
  {
   "cell_type": "code",
   "execution_count": 72,
   "id": "bade9b98",
   "metadata": {},
   "outputs": [],
   "source": [
    "Sales = [40, 34, 48, 74, 84, 89, 52, 47, 75, 56, 42]"
   ]
  },
  {
   "cell_type": "markdown",
   "id": "76d85734",
   "metadata": {},
   "source": [
    "#### Append the sale of December as 31 in the list."
   ]
  },
  {
   "cell_type": "code",
   "execution_count": 73,
   "id": "9c75bd16",
   "metadata": {},
   "outputs": [],
   "source": [
    "Sales.append(31)"
   ]
  },
  {
   "cell_type": "code",
   "execution_count": 74,
   "id": "9a2f61b7",
   "metadata": {},
   "outputs": [
    {
     "data": {
      "text/plain": [
       "[40, 34, 48, 74, 84, 89, 52, 47, 75, 56, 42, 31]"
      ]
     },
     "execution_count": 74,
     "metadata": {},
     "output_type": "execute_result"
    }
   ],
   "source": [
    "Sales"
   ]
  },
  {
   "cell_type": "markdown",
   "id": "7caa2e97",
   "metadata": {},
   "source": [
    "#### Find the total products sold in the year."
   ]
  },
  {
   "cell_type": "code",
   "execution_count": 75,
   "id": "2098beb0",
   "metadata": {},
   "outputs": [
    {
     "data": {
      "text/plain": [
       "672"
      ]
     },
     "execution_count": 75,
     "metadata": {},
     "output_type": "execute_result"
    }
   ],
   "source": [
    "#total products sold in year \n",
    "sum(Sales)"
   ]
  },
  {
   "cell_type": "markdown",
   "id": "a4917672",
   "metadata": {},
   "source": [
    "#### Find the average number of products sold."
   ]
  },
  {
   "cell_type": "code",
   "execution_count": 76,
   "id": "b1f40daf",
   "metadata": {},
   "outputs": [
    {
     "name": "stdout",
     "output_type": "stream",
     "text": [
      "56.0\n"
     ]
    }
   ],
   "source": [
    "avg_sales = sum(Sales) / len(Sales)\n",
    "print(avg_sales)"
   ]
  },
  {
   "cell_type": "markdown",
   "id": "d1810acd",
   "metadata": {},
   "source": [
    "#### Find the minimum number of product sold in the 1st quarter.(Jan - Mar)"
   ]
  },
  {
   "cell_type": "code",
   "execution_count": 77,
   "id": "d96dca8f",
   "metadata": {},
   "outputs": [
    {
     "data": {
      "text/plain": [
       "[40, 34, 48]"
      ]
     },
     "execution_count": 77,
     "metadata": {},
     "output_type": "execute_result"
    }
   ],
   "source": [
    "Sales_1st_qtr = Sales[0:3]\n",
    "\n",
    "Sales_1st_qtr"
   ]
  },
  {
   "cell_type": "code",
   "execution_count": 78,
   "id": "e1de6e4e",
   "metadata": {},
   "outputs": [
    {
     "data": {
      "text/plain": [
       "34"
      ]
     },
     "execution_count": 78,
     "metadata": {},
     "output_type": "execute_result"
    }
   ],
   "source": [
    "min(Sales_1st_qtr)"
   ]
  },
  {
   "cell_type": "markdown",
   "id": "8693f985",
   "metadata": {},
   "source": [
    "#### Find the maximum number of product sold in the 4th quarter.(Oct - Dec)"
   ]
  },
  {
   "cell_type": "code",
   "execution_count": 79,
   "id": "432be554",
   "metadata": {},
   "outputs": [
    {
     "data": {
      "text/plain": [
       "[56, 42, 31]"
      ]
     },
     "execution_count": 79,
     "metadata": {},
     "output_type": "execute_result"
    }
   ],
   "source": [
    "Sales_4th_qtr = Sales[-3:]\n",
    "\n",
    "Sales_4th_qtr"
   ]
  },
  {
   "cell_type": "code",
   "execution_count": 80,
   "id": "fb604b1b",
   "metadata": {},
   "outputs": [
    {
     "data": {
      "text/plain": [
       "56"
      ]
     },
     "execution_count": 80,
     "metadata": {},
     "output_type": "execute_result"
    }
   ],
   "source": [
    "max(Sales_4th_qtr)"
   ]
  },
  {
   "cell_type": "markdown",
   "id": "c20341a3",
   "metadata": {},
   "source": [
    "#### Find the second highest number of product sold in the year."
   ]
  },
  {
   "cell_type": "code",
   "execution_count": 81,
   "id": "4238c36b",
   "metadata": {},
   "outputs": [
    {
     "data": {
      "text/plain": [
       "[31, 34, 40, 42, 47, 48, 52, 56, 74, 75, 84, 89]"
      ]
     },
     "execution_count": 81,
     "metadata": {},
     "output_type": "execute_result"
    }
   ],
   "source": [
    "sorted_sales = sorted(Sales)\n",
    "sorted_sales"
   ]
  },
  {
   "cell_type": "code",
   "execution_count": 82,
   "id": "cf159f67",
   "metadata": {},
   "outputs": [
    {
     "data": {
      "text/plain": [
       "84"
      ]
     },
     "execution_count": 82,
     "metadata": {},
     "output_type": "execute_result"
    }
   ],
   "source": [
    "sorted_sales[-2]"
   ]
  },
  {
   "cell_type": "markdown",
   "id": "6f872311",
   "metadata": {},
   "source": [
    "#### Delete the sale of December from the list."
   ]
  },
  {
   "cell_type": "code",
   "execution_count": 83,
   "id": "f6b75bc8",
   "metadata": {},
   "outputs": [
    {
     "data": {
      "text/plain": [
       "31"
      ]
     },
     "execution_count": 83,
     "metadata": {},
     "output_type": "execute_result"
    }
   ],
   "source": [
    "Sales.pop()"
   ]
  },
  {
   "cell_type": "code",
   "execution_count": 84,
   "id": "808171f9",
   "metadata": {},
   "outputs": [
    {
     "data": {
      "text/plain": [
       "[40, 34, 48, 74, 84, 89, 52, 47, 75, 56, 42]"
      ]
     },
     "execution_count": 84,
     "metadata": {},
     "output_type": "execute_result"
    }
   ],
   "source": [
    "Sales"
   ]
  },
  {
   "cell_type": "markdown",
   "id": "e692092b",
   "metadata": {},
   "source": [
    "#### Delete the sale of March as 48 from the list."
   ]
  },
  {
   "cell_type": "code",
   "execution_count": 85,
   "id": "e672ad6d",
   "metadata": {},
   "outputs": [],
   "source": [
    "Sales.remove(48)"
   ]
  },
  {
   "cell_type": "code",
   "execution_count": 86,
   "id": "7e919aad",
   "metadata": {},
   "outputs": [
    {
     "data": {
      "text/plain": [
       "[40, 34, 74, 84, 89, 52, 47, 75, 56, 42]"
      ]
     },
     "execution_count": 86,
     "metadata": {},
     "output_type": "execute_result"
    }
   ],
   "source": [
    "Sales"
   ]
  },
  {
   "cell_type": "markdown",
   "id": "377f72f1",
   "metadata": {},
   "source": [
    "#### Insert the sale of March as 84 in the list"
   ]
  },
  {
   "cell_type": "code",
   "execution_count": 87,
   "id": "206c32d7",
   "metadata": {},
   "outputs": [],
   "source": [
    "Sales.insert(2,84)"
   ]
  },
  {
   "cell_type": "code",
   "execution_count": 88,
   "id": "030154c8",
   "metadata": {},
   "outputs": [
    {
     "data": {
      "text/plain": [
       "[40, 34, 84, 74, 84, 89, 52, 47, 75, 56, 42]"
      ]
     },
     "execution_count": 88,
     "metadata": {},
     "output_type": "execute_result"
    }
   ],
   "source": [
    "Sales"
   ]
  },
  {
   "cell_type": "markdown",
   "id": "c275eae6",
   "metadata": {},
   "source": [
    "#### Delete the sale of 1st quarter from the list"
   ]
  },
  {
   "cell_type": "code",
   "execution_count": 89,
   "id": "c7231351",
   "metadata": {},
   "outputs": [],
   "source": [
    "del Sales[0:3]"
   ]
  },
  {
   "cell_type": "code",
   "execution_count": 90,
   "id": "63fedab5",
   "metadata": {},
   "outputs": [
    {
     "data": {
      "text/plain": [
       "[74, 84, 89, 52, 47, 75, 56, 42]"
      ]
     },
     "execution_count": 90,
     "metadata": {},
     "output_type": "execute_result"
    }
   ],
   "source": [
    "Sales"
   ]
  },
  {
   "cell_type": "code",
   "execution_count": null,
   "id": "6e9ad4da",
   "metadata": {},
   "outputs": [],
   "source": []
  },
  {
   "cell_type": "markdown",
   "id": "210b8ea1",
   "metadata": {},
   "source": [
    "## Tuple"
   ]
  },
  {
   "cell_type": "markdown",
   "id": "f5f0e029",
   "metadata": {},
   "source": [
    "### The grades obtained by Batch 1 students in a test of Python is given."
   ]
  },
  {
   "cell_type": "markdown",
   "id": "c3f6ecd2",
   "metadata": {},
   "source": [
    "```python\n",
    "grades = ('A', 'B', 'A', 'C', 'D', 'B', 'A', 'C')\n",
    "```"
   ]
  },
  {
   "cell_type": "markdown",
   "id": "1847a0d5",
   "metadata": {},
   "source": [
    "#### How many students have got the grade as 'A'"
   ]
  },
  {
   "cell_type": "code",
   "execution_count": 95,
   "id": "aa657a1f",
   "metadata": {},
   "outputs": [
    {
     "data": {
      "text/plain": [
       "3"
      ]
     },
     "execution_count": 95,
     "metadata": {},
     "output_type": "execute_result"
    }
   ],
   "source": [
    "grades.count('A')"
   ]
  },
  {
   "cell_type": "markdown",
   "id": "90cbc858",
   "metadata": {},
   "source": [
    "#### Give the index of the students who have scored Grade 'D'"
   ]
  },
  {
   "cell_type": "code",
   "execution_count": 97,
   "id": "f3b92762",
   "metadata": {},
   "outputs": [
    {
     "data": {
      "text/plain": [
       "4"
      ]
     },
     "execution_count": 97,
     "metadata": {},
     "output_type": "execute_result"
    }
   ],
   "source": [
    "grades.index('D')"
   ]
  },
  {
   "cell_type": "markdown",
   "id": "51032d16",
   "metadata": {},
   "source": [
    "#### The grade for the 1st Student is mistakenly written for last student. Swap the grades for them to get the correct grades."
   ]
  },
  {
   "cell_type": "code",
   "execution_count": 98,
   "id": "cdfa5cb4",
   "metadata": {},
   "outputs": [],
   "source": [
    "grades = list(grades)"
   ]
  },
  {
   "cell_type": "code",
   "execution_count": 99,
   "id": "08a8bdbc",
   "metadata": {},
   "outputs": [
    {
     "data": {
      "text/plain": [
       "['A', 'B', 'A', 'C', 'D', 'B', 'A', 'C']"
      ]
     },
     "execution_count": 99,
     "metadata": {},
     "output_type": "execute_result"
    }
   ],
   "source": [
    "grades"
   ]
  },
  {
   "cell_type": "code",
   "execution_count": 100,
   "id": "69dd9975",
   "metadata": {},
   "outputs": [],
   "source": [
    "#Swapping \n",
    "grades[0], grades[-1] = grades[-1], grades[0]"
   ]
  },
  {
   "cell_type": "code",
   "execution_count": 101,
   "id": "d41651bb",
   "metadata": {},
   "outputs": [
    {
     "data": {
      "text/plain": [
       "['C', 'B', 'A', 'C', 'D', 'B', 'A', 'A']"
      ]
     },
     "execution_count": 101,
     "metadata": {},
     "output_type": "execute_result"
    }
   ],
   "source": [
    "grades"
   ]
  },
  {
   "cell_type": "markdown",
   "id": "a40d73c2",
   "metadata": {},
   "source": [
    "## Set"
   ]
  },
  {
   "cell_type": "markdown",
   "id": "8e83c963",
   "metadata": {},
   "source": [
    "### Q1. Create a set of three data science tools you have used."
   ]
  },
  {
   "cell_type": "code",
   "execution_count": 104,
   "id": "28aa5b19",
   "metadata": {},
   "outputs": [
    {
     "data": {
      "text/plain": [
       "{'Excel', 'Python', 'SQL'}"
      ]
     },
     "execution_count": 104,
     "metadata": {},
     "output_type": "execute_result"
    }
   ],
   "source": [
    "tools = {\"Python\", \"Excel\", \"SQL\"}\n",
    "tools"
   ]
  },
  {
   "cell_type": "code",
   "execution_count": 105,
   "id": "a4a67e09",
   "metadata": {},
   "outputs": [],
   "source": [
    "# without using {}\n",
    "tools = set()\n",
    "tools.add(\"Python\")\n",
    "tools.add(\"Excel\")\n",
    "tools.add(\"SQL\")"
   ]
  },
  {
   "cell_type": "code",
   "execution_count": 106,
   "id": "fe08db8c",
   "metadata": {},
   "outputs": [
    {
     "data": {
      "text/plain": [
       "{'Excel', 'Python', 'SQL'}"
      ]
     },
     "execution_count": 106,
     "metadata": {},
     "output_type": "execute_result"
    }
   ],
   "source": [
    "tools"
   ]
  },
  {
   "cell_type": "markdown",
   "id": "a4400786",
   "metadata": {},
   "source": [
    "### Q2. Given two sets of tools learned by the batches "
   ]
  },
  {
   "cell_type": "code",
   "execution_count": 107,
   "id": "477d4e25",
   "metadata": {},
   "outputs": [],
   "source": [
    "batch1_tools = {'Python', 'Excel', 'MySQL', 'Tableau'}  \n",
    "\n",
    "batch2_tools = {'Python', 'Excel', 'SQLite', 'PowerBI'}"
   ]
  },
  {
   "cell_type": "markdown",
   "id": "f381b5a7",
   "metadata": {},
   "source": [
    "#### Find the tools learned in both the batches"
   ]
  },
  {
   "cell_type": "code",
   "execution_count": 112,
   "id": "eca890d7",
   "metadata": {},
   "outputs": [
    {
     "data": {
      "text/plain": [
       "{'Excel', 'Python'}"
      ]
     },
     "execution_count": 112,
     "metadata": {},
     "output_type": "execute_result"
    }
   ],
   "source": [
    "batch1_tools & batch2_tools"
   ]
  },
  {
   "cell_type": "markdown",
   "id": "9011ac19",
   "metadata": {},
   "source": [
    "#### Find the tools learned by the Batch 1 but not by Batch 2"
   ]
  },
  {
   "cell_type": "code",
   "execution_count": 113,
   "id": "699dd6ad",
   "metadata": {},
   "outputs": [
    {
     "data": {
      "text/plain": [
       "{'MySQL', 'Tableau'}"
      ]
     },
     "execution_count": 113,
     "metadata": {},
     "output_type": "execute_result"
    }
   ],
   "source": [
    "batch1_tools - batch2_tools"
   ]
  },
  {
   "cell_type": "markdown",
   "id": "1b3a9ea0",
   "metadata": {},
   "source": [
    "#### Find the tools learned by the Batch 2 but not by Batch 1"
   ]
  },
  {
   "cell_type": "code",
   "execution_count": 114,
   "id": "145cae68",
   "metadata": {},
   "outputs": [
    {
     "data": {
      "text/plain": [
       "{'PowerBI', 'SQLite'}"
      ]
     },
     "execution_count": 114,
     "metadata": {},
     "output_type": "execute_result"
    }
   ],
   "source": [
    "batch2_tools - batch1_tools"
   ]
  },
  {
   "cell_type": "markdown",
   "id": "3e7aa860",
   "metadata": {},
   "source": [
    "#### Find the tools not common in both the batches. (Tools learned only by Batch 1 and only by Batch 2)"
   ]
  },
  {
   "cell_type": "code",
   "execution_count": 115,
   "id": "e3787d47",
   "metadata": {},
   "outputs": [
    {
     "data": {
      "text/plain": [
       "{'MySQL', 'PowerBI', 'SQLite', 'Tableau'}"
      ]
     },
     "execution_count": 115,
     "metadata": {},
     "output_type": "execute_result"
    }
   ],
   "source": [
    "batch1_tools ^ batch2_tools"
   ]
  },
  {
   "cell_type": "markdown",
   "id": "ce59ced6",
   "metadata": {},
   "source": [
    "## Dictionary"
   ]
  },
  {
   "cell_type": "markdown",
   "id": "a003cca0",
   "metadata": {},
   "source": [
    "### Q1. Create a dictionary where keys are data science libraries and values are their descriptions. Add an entry for \"Pandas\" with a brief description"
   ]
  },
  {
   "cell_type": "code",
   "execution_count": 117,
   "id": "cb949f6a",
   "metadata": {},
   "outputs": [],
   "source": [
    "# Creating a dictionary of data science libraries with brief descriptions\n",
    "data_science_libraries_dict = {\n",
    "    \"NumPy\": \"Scientific computing in Python\",\n",
    "    \"Matplotlib\": \"Data visualization in Python\",\n",
    "    \"Scikit-Learn\": \"Machine learning in Python\"\n",
    "}\n",
    "\n",
    "# Adding an entry for \"Pandas\" with a short description\n",
    "data_science_libraries_dict[\"Pandas\"] = \"Data manipulation in Python\""
   ]
  },
  {
   "cell_type": "code",
   "execution_count": 118,
   "id": "54e45332",
   "metadata": {},
   "outputs": [
    {
     "data": {
      "text/plain": [
       "{'NumPy': 'Scientific computing in Python',\n",
       " 'Matplotlib': 'Data visualization in Python',\n",
       " 'Scikit-Learn': 'Machine learning in Python',\n",
       " 'Pandas': 'Data manipulation in Python'}"
      ]
     },
     "execution_count": 118,
     "metadata": {},
     "output_type": "execute_result"
    }
   ],
   "source": [
    "data_science_libraries_dict"
   ]
  },
  {
   "cell_type": "markdown",
   "id": "d75de51b",
   "metadata": {},
   "source": [
    "### Q2. Below is the run scored by the different batsman\n",
    "\n",
    "dict_run = { 'ISHAN': 40, 'RAHUL':35 ,' YUVRAJ': 85, 'VIRAT': 49, 'DHONI': 50 , 'ROHIT': 50}"
   ]
  },
  {
   "cell_type": "code",
   "execution_count": 155,
   "id": "4d6f70b3",
   "metadata": {},
   "outputs": [],
   "source": [
    "dict_run = { 'Ishan': 40, 'Rahul':35 ,'Yuvraj': 85, 'Virat': 49, 'Dhoni': 50 , 'Rohit': 50}"
   ]
  },
  {
   "cell_type": "markdown",
   "id": "ca9e09c8",
   "metadata": {},
   "source": [
    "#### Find the runs scored by different batsman"
   ]
  },
  {
   "cell_type": "code",
   "execution_count": 156,
   "id": "6d1c4411",
   "metadata": {},
   "outputs": [
    {
     "data": {
      "text/plain": [
       "{35, 40, 49, 50, 85}"
      ]
     },
     "execution_count": 156,
     "metadata": {},
     "output_type": "execute_result"
    }
   ],
   "source": [
    "runs = dict_run.values()\n",
    "set(runs)"
   ]
  },
  {
   "cell_type": "markdown",
   "id": "e3b176ea",
   "metadata": {},
   "source": [
    "#### Find the name different batsman."
   ]
  },
  {
   "cell_type": "code",
   "execution_count": 157,
   "id": "3f0a399d",
   "metadata": {},
   "outputs": [
    {
     "data": {
      "text/plain": [
       "{'Dhoni', 'Ishan', 'Rahul', 'Rohit', 'Virat', 'Yuvraj'}"
      ]
     },
     "execution_count": 157,
     "metadata": {},
     "output_type": "execute_result"
    }
   ],
   "source": [
    "batsman = dict_run.keys()\n",
    "set(batsman)"
   ]
  },
  {
   "cell_type": "markdown",
   "id": "93d6719b",
   "metadata": {},
   "source": [
    "#### Find the minimum run scored by a batsman."
   ]
  },
  {
   "cell_type": "code",
   "execution_count": 158,
   "id": "20512bc5",
   "metadata": {},
   "outputs": [
    {
     "data": {
      "text/plain": [
       "35"
      ]
     },
     "execution_count": 158,
     "metadata": {},
     "output_type": "execute_result"
    }
   ],
   "source": [
    "min(dict_run.values())"
   ]
  },
  {
   "cell_type": "code",
   "execution_count": 159,
   "id": "f832ae6b",
   "metadata": {},
   "outputs": [
    {
     "data": {
      "text/plain": [
       "35"
      ]
     },
     "execution_count": 159,
     "metadata": {},
     "output_type": "execute_result"
    }
   ],
   "source": [
    "min(runs)"
   ]
  },
  {
   "cell_type": "markdown",
   "id": "d6299583",
   "metadata": {},
   "source": [
    "#### Find the maximum run scored by a batsman.\n"
   ]
  },
  {
   "cell_type": "code",
   "execution_count": 160,
   "id": "466ddef3",
   "metadata": {},
   "outputs": [
    {
     "data": {
      "text/plain": [
       "85"
      ]
     },
     "execution_count": 160,
     "metadata": {},
     "output_type": "execute_result"
    }
   ],
   "source": [
    "max(dict_run.values())"
   ]
  },
  {
   "cell_type": "code",
   "execution_count": 161,
   "id": "45b1f19a",
   "metadata": {},
   "outputs": [
    {
     "data": {
      "text/plain": [
       "85"
      ]
     },
     "execution_count": 161,
     "metadata": {},
     "output_type": "execute_result"
    }
   ],
   "source": [
    "max(runs)"
   ]
  },
  {
   "cell_type": "markdown",
   "id": "1240a5db",
   "metadata": {},
   "source": [
    "#### It was mistakenly noted that 40 runs were scored by Ishan. Actually, Ishan scored 14 runs. Update the correct record in the dictionary."
   ]
  },
  {
   "cell_type": "code",
   "execution_count": 162,
   "id": "48aaa892",
   "metadata": {},
   "outputs": [],
   "source": [
    "dict_run['Ishan'] = 14"
   ]
  },
  {
   "cell_type": "code",
   "execution_count": 163,
   "id": "2ce86c01",
   "metadata": {},
   "outputs": [
    {
     "data": {
      "text/plain": [
       "{'Ishan': 14, 'Rahul': 35, 'Yuvraj': 85, 'Virat': 49, 'Dhoni': 50, 'Rohit': 50}"
      ]
     },
     "execution_count": 163,
     "metadata": {},
     "output_type": "execute_result"
    }
   ],
   "source": [
    "dict_run"
   ]
  },
  {
   "cell_type": "markdown",
   "id": "69b2377a",
   "metadata": {},
   "source": [
    "## Operators:"
   ]
  },
  {
   "cell_type": "markdown",
   "id": "a08314ce",
   "metadata": {},
   "source": [
    "### Q1. Take an input of a number from the user and print the square root of it."
   ]
  },
  {
   "cell_type": "code",
   "execution_count": 170,
   "id": "ec3421be",
   "metadata": {},
   "outputs": [
    {
     "name": "stdout",
     "output_type": "stream",
     "text": [
      "36\n",
      "6.0\n"
     ]
    }
   ],
   "source": [
    "number = int(input())\n",
    "print(number ** 0.5)"
   ]
  },
  {
   "cell_type": "markdown",
   "id": "a7a0bdee",
   "metadata": {},
   "source": [
    "### Q2. Take a number input by the user and print the digit at ones palce"
   ]
  },
  {
   "cell_type": "code",
   "execution_count": 171,
   "id": "f5efe9de",
   "metadata": {},
   "outputs": [
    {
     "name": "stdout",
     "output_type": "stream",
     "text": [
      "261\n"
     ]
    },
    {
     "data": {
      "text/plain": [
       "1"
      ]
     },
     "execution_count": 171,
     "metadata": {},
     "output_type": "execute_result"
    }
   ],
   "source": [
    "number = int(input())\n",
    "number % 10"
   ]
  },
  {
   "cell_type": "markdown",
   "id": "001dd3d0",
   "metadata": {},
   "source": [
    "### Q3. Take a 3-digit number input by the user and print the digit at hundreds place"
   ]
  },
  {
   "cell_type": "code",
   "execution_count": 173,
   "id": "2e7ffd94",
   "metadata": {},
   "outputs": [
    {
     "name": "stdout",
     "output_type": "stream",
     "text": [
      "261\n"
     ]
    },
    {
     "data": {
      "text/plain": [
       "2"
      ]
     },
     "execution_count": 173,
     "metadata": {},
     "output_type": "execute_result"
    }
   ],
   "source": [
    "number = int(input())\n",
    "number // 100"
   ]
  },
  {
   "cell_type": "markdown",
   "id": "20f27e75",
   "metadata": {},
   "source": [
    "### Q4.Given two numbers a = 10 and b = 20, print their sum, difference, product, and quotient. Check if a is greater than b."
   ]
  },
  {
   "cell_type": "code",
   "execution_count": 175,
   "id": "190ff27e",
   "metadata": {},
   "outputs": [
    {
     "name": "stdout",
     "output_type": "stream",
     "text": [
      "30\n",
      "-10\n",
      "200\n",
      "0.5\n",
      "False\n"
     ]
    }
   ],
   "source": [
    "a = 10\n",
    "b = 20\n",
    "print(a + b)\n",
    "print(a - b)\n",
    "print(a * b)\n",
    "print(a / b)\n",
    "print(a > b)"
   ]
  },
  {
   "cell_type": "markdown",
   "id": "dabadfc3",
   "metadata": {},
   "source": [
    "### Q5. Convert a float number 123.456 to an integer."
   ]
  },
  {
   "cell_type": "code",
   "execution_count": 176,
   "id": "0753bb44",
   "metadata": {},
   "outputs": [
    {
     "data": {
      "text/plain": [
       "123"
      ]
     },
     "execution_count": 176,
     "metadata": {},
     "output_type": "execute_result"
    }
   ],
   "source": [
    "a = 123.456\n",
    "int(a)"
   ]
  },
  {
   "cell_type": "markdown",
   "id": "53489066",
   "metadata": {},
   "source": [
    "### Q6.Given a number n, use logical operators to check if n is both greater than 10 and less than 50."
   ]
  },
  {
   "cell_type": "code",
   "execution_count": 178,
   "id": "7cb6f0a8",
   "metadata": {},
   "outputs": [
    {
     "name": "stdout",
     "output_type": "stream",
     "text": [
      "45\n"
     ]
    },
    {
     "data": {
      "text/plain": [
       "True"
      ]
     },
     "execution_count": 178,
     "metadata": {},
     "output_type": "execute_result"
    }
   ],
   "source": [
    "n = int(input())\n",
    "\n",
    "n > 10 and n < 50"
   ]
  },
  {
   "cell_type": "markdown",
   "id": "27acf34b",
   "metadata": {},
   "source": [
    "### Q7 Write a program that checks if a given year is a leap year or not."
   ]
  },
  {
   "cell_type": "code",
   "execution_count": 184,
   "id": "ca12b90c",
   "metadata": {},
   "outputs": [
    {
     "name": "stdout",
     "output_type": "stream",
     "text": [
      "Enter a year 2004\n"
     ]
    },
    {
     "data": {
      "text/plain": [
       "True"
      ]
     },
     "execution_count": 184,
     "metadata": {},
     "output_type": "execute_result"
    }
   ],
   "source": [
    "year = int(input(\"Enter a year \"))\n",
    "\n",
    "(year % 4 == 0) and ((year % 100 != 0) or (year % 400 == 0))"
   ]
  },
  {
   "cell_type": "markdown",
   "id": "e3e4bab5",
   "metadata": {},
   "source": [
    "### Q8. For a given quadratic equation $x^2 + 7 x - 18$. Find the values of x .\n",
    "Hint : x = $\\frac{-b + \\sqrt{b^2 -4 ac}}{2a}$  \n",
    "\n",
    "x = $\\frac{-b - \\sqrt{b^2 -4 ac}}{2a}$  \n"
   ]
  },
  {
   "cell_type": "code",
   "execution_count": 189,
   "id": "709261f0",
   "metadata": {},
   "outputs": [],
   "source": [
    "a = 1\n",
    "b = 7\n",
    "c = -18"
   ]
  },
  {
   "cell_type": "code",
   "execution_count": 190,
   "id": "b8acd2a0",
   "metadata": {},
   "outputs": [
    {
     "data": {
      "text/plain": [
       "2.0"
      ]
     },
     "execution_count": 190,
     "metadata": {},
     "output_type": "execute_result"
    }
   ],
   "source": [
    "(-b + (b**2 - 4*a*c)**0.5 )/ 2*a"
   ]
  },
  {
   "cell_type": "code",
   "execution_count": 191,
   "id": "67b70eef",
   "metadata": {},
   "outputs": [
    {
     "data": {
      "text/plain": [
       "-9.0"
      ]
     },
     "execution_count": 191,
     "metadata": {},
     "output_type": "execute_result"
    }
   ],
   "source": [
    "(-b - (b**2 - 4*a*c)**0.5 )/ 2*a"
   ]
  },
  {
   "cell_type": "markdown",
   "id": "c78114f1",
   "metadata": {},
   "source": [
    "### Additional Questions:\n"
   ]
  },
  {
   "cell_type": "markdown",
   "id": "aedc0334",
   "metadata": {},
   "source": [
    "#### Check if the strings are anagrams\n",
    "#### An anagram is a word or phrase formed by rearranging the letters of another.\n",
    "For example 'Silent' and 'Listen' are Anagrams\n"
   ]
  },
  {
   "cell_type": "code",
   "execution_count": 197,
   "id": "076539f0",
   "metadata": {},
   "outputs": [
    {
     "data": {
      "text/plain": [
       "'suhel'"
      ]
     },
     "execution_count": 197,
     "metadata": {},
     "output_type": "execute_result"
    }
   ],
   "source": [
    "str2 = \"Suhel\"\n",
    "str2.lower()"
   ]
  },
  {
   "cell_type": "code",
   "execution_count": 198,
   "id": "b9119eef",
   "metadata": {},
   "outputs": [
    {
     "data": {
      "text/plain": [
       "False"
      ]
     },
     "execution_count": 198,
     "metadata": {},
     "output_type": "execute_result"
    }
   ],
   "source": [
    "str1 = 'Learner'\n",
    "str2 = 'Student'\n",
    "\n",
    "# write your codes\n",
    "str1 = str1.lower()\n",
    "str2 = str2.lower()\n",
    "\n",
    "sorted(str1) == sorted(str2)"
   ]
  },
  {
   "cell_type": "code",
   "execution_count": 199,
   "id": "b9208539",
   "metadata": {},
   "outputs": [
    {
     "data": {
      "text/plain": [
       "True"
      ]
     },
     "execution_count": 199,
     "metadata": {},
     "output_type": "execute_result"
    }
   ],
   "source": [
    "str1 = 'Teaching'\n",
    "str2 = 'Cheating'\n",
    "\n",
    "# write your codes\n",
    "str1 = str1.lower()\n",
    "str2 = str2.lower()\n",
    "\n",
    "sorted(str1) == sorted(str2)"
   ]
  },
  {
   "cell_type": "code",
   "execution_count": null,
   "id": "7dfae03e",
   "metadata": {},
   "outputs": [],
   "source": [
    ". For example, if you continuously repeat 'erbottlewat,' you will eventually obtain the string 'waterbottle,' indicating that 'waterbottle' is a rotation of 'erbottlewat"
   ]
  },
  {
   "cell_type": "markdown",
   "id": "74b25547",
   "metadata": {},
   "source": [
    "### Determine whether one string is a rotation of another.\n",
    "For instance, \"waterbottle\" is a rotation of \"erbottlewat.\"\n",
    "\n",
    "if you keep repeating \"erbottlewat.\" then you would listen \"waterbottle\"\n"
   ]
  },
  {
   "cell_type": "code",
   "execution_count": 200,
   "id": "e1c7bd28",
   "metadata": {},
   "outputs": [
    {
     "data": {
      "text/plain": [
       "False"
      ]
     },
     "execution_count": 200,
     "metadata": {},
     "output_type": "execute_result"
    }
   ],
   "source": [
    "str1 = \"finance\"\n",
    "str2 = \"nanceif\"\n",
    "# write your codes\n",
    "\n",
    "str3 = str2 + str2\n",
    "\n",
    "str1 in str3"
   ]
  },
  {
   "cell_type": "code",
   "execution_count": 202,
   "id": "2d721224",
   "metadata": {},
   "outputs": [
    {
     "data": {
      "text/plain": [
       "True"
      ]
     },
     "execution_count": 202,
     "metadata": {},
     "output_type": "execute_result"
    }
   ],
   "source": [
    "str1 = \"carpentar\"\n",
    "str2 = \"pentarcar\"\n",
    "#write your codes\n",
    "\n",
    "str3 = str2 + str2\n",
    "\n",
    "str1 in str3"
   ]
  },
  {
   "cell_type": "markdown",
   "id": "2e7cdcb8",
   "metadata": {},
   "source": [
    "#### Extract the Date, Month and Year from the given date."
   ]
  },
  {
   "cell_type": "code",
   "execution_count": 205,
   "id": "39ceec7b",
   "metadata": {},
   "outputs": [
    {
     "name": "stdout",
     "output_type": "stream",
     "text": [
      "2023\n",
      "04\n",
      "17\n"
     ]
    }
   ],
   "source": [
    "# Date is in string format\n",
    "Date = \"17-04-2023\"\n",
    "\n",
    "#Write your codes\n",
    "#Extract the day ,month and year\n",
    "\n",
    "date_component = Date.split('-')\n",
    "\n",
    "year = date_component[2]\n",
    "print(year)\n",
    "\n",
    "month = date_component[1]\n",
    "print(month)\n",
    "\n",
    "day = date_component[0]\n",
    "print(day)\n",
    "\n",
    "\n",
    "\n",
    "\n"
   ]
  },
  {
   "cell_type": "markdown",
   "id": "d6f9dc0a",
   "metadata": {},
   "source": [
    " ### For a given 3-digit number. Check whether it is Armstrong or not\n",
    " #### An Armstrong number is an n-digit number that is equal to the sum of its own digits each raised to the power of n.\n",
    " #### For example $153 = 1^3 + 5^3 +3^3 $"
   ]
  },
  {
   "cell_type": "code",
   "execution_count": 209,
   "id": "8ddf6f22",
   "metadata": {},
   "outputs": [
    {
     "data": {
      "text/plain": [
       "True"
      ]
     },
     "execution_count": 209,
     "metadata": {},
     "output_type": "execute_result"
    }
   ],
   "source": [
    "number = 407\n",
    "n = number\n",
    "#Write your codes\n",
    "s = 0\n",
    "r = n % 10\n",
    "s = s + r**3\n",
    "\n",
    "n = n // 10\n",
    "r = n % 10\n",
    "s = s + r**3\n",
    "\n",
    "n = n // 10\n",
    "r = n % 10\n",
    "s = s + r**3\n",
    "\n",
    "s == number"
   ]
  },
  {
   "cell_type": "code",
   "execution_count": null,
   "id": "3d2db9d7",
   "metadata": {},
   "outputs": [],
   "source": []
  }
 ],
 "metadata": {
  "kernelspec": {
   "display_name": "Python 3 (ipykernel)",
   "language": "python",
   "name": "python3"
  },
  "language_info": {
   "codemirror_mode": {
    "name": "ipython",
    "version": 3
   },
   "file_extension": ".py",
   "mimetype": "text/x-python",
   "name": "python",
   "nbconvert_exporter": "python",
   "pygments_lexer": "ipython3",
   "version": "3.11.3"
  }
 },
 "nbformat": 4,
 "nbformat_minor": 5
}
