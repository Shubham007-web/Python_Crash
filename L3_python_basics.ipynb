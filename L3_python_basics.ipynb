{
 "cells": [
  {
   "cell_type": "markdown",
   "id": "c35045bc",
   "metadata": {},
   "source": [
    "# Python Day3\n",
    "\n",
    "## Table of contents\n",
    "\n",
    "1. Zip, enumarate\n",
    "2. List and dicitionary Comprehension\n",
    "3. Functions Executions \n",
    "    - User-Defined Functions (UDF)\n",
    "    - Built-in Functions\n",
    "    - Practical Exercise: Creating and Using Functions\n"
   ]
  },
  {
   "cell_type": "code",
   "execution_count": 1,
   "id": "faefc31d",
   "metadata": {},
   "outputs": [],
   "source": [
    "x = [1,2,3,4]\n",
    "y = [\"Hello\",\"Hi\",\"Nehao\",\"Namste\"]"
   ]
  },
  {
   "cell_type": "code",
   "execution_count": 4,
   "id": "1e619316",
   "metadata": {},
   "outputs": [
    {
     "data": {
      "text/plain": [
       "[(1, 'Hello'), (2, 'Hi'), (3, 'Nehao'), (4, 'Namste')]"
      ]
     },
     "execution_count": 4,
     "metadata": {},
     "output_type": "execute_result"
    }
   ],
   "source": [
    "l = zip(x,y)\n",
    "list(l)"
   ]
  },
  {
   "cell_type": "code",
   "execution_count": 8,
   "id": "f3f228c7",
   "metadata": {},
   "outputs": [
    {
     "data": {
      "text/plain": [
       "[(0, [1, 2, 3, 4]), (1, ['Hello', 'Hi', 'Nehao', 'Namste'])]"
      ]
     },
     "execution_count": 8,
     "metadata": {},
     "output_type": "execute_result"
    }
   ],
   "source": [
    "e = enumerate([x,y])\n",
    "list(e)"
   ]
  },
  {
   "cell_type": "code",
   "execution_count": 22,
   "id": "63acaf77",
   "metadata": {},
   "outputs": [],
   "source": [
    "l = zip(x,y)\n",
    "en = enumerate(l)"
   ]
  },
  {
   "cell_type": "code",
   "execution_count": 14,
   "id": "2f434178",
   "metadata": {},
   "outputs": [
    {
     "data": {
      "text/plain": [
       "[(1, 'Hello'), (2, 'Hi'), (3, 'Nehao'), (4, 'Namste')]"
      ]
     },
     "execution_count": 14,
     "metadata": {},
     "output_type": "execute_result"
    }
   ],
   "source": [
    "list(l)"
   ]
  },
  {
   "cell_type": "code",
   "execution_count": 23,
   "id": "c1a694d0",
   "metadata": {},
   "outputs": [
    {
     "ename": "ValueError",
     "evalue": "not enough values to unpack (expected 3, got 2)",
     "output_type": "error",
     "traceback": [
      "\u001b[1;31m---------------------------------------------------------------------------\u001b[0m",
      "\u001b[1;31mValueError\u001b[0m                                Traceback (most recent call last)",
      "Cell \u001b[1;32mIn[23], line 1\u001b[0m\n\u001b[1;32m----> 1\u001b[0m \u001b[38;5;28;01mfor\u001b[39;00m i,y,z \u001b[38;5;129;01min\u001b[39;00m en:\n\u001b[0;32m      2\u001b[0m     \u001b[38;5;28mprint\u001b[39m(i,y)\n",
      "\u001b[1;31mValueError\u001b[0m: not enough values to unpack (expected 3, got 2)"
     ]
    }
   ],
   "source": []
  },
  {
   "cell_type": "markdown",
   "id": "93a42d58",
   "metadata": {},
   "source": [
    "# ZIP\n",
    "---\n",
    "## What is zip() in python?\n",
    "\n",
    "- The zip function returns an iterator of tuples, where the first item in each passed iterator is paired together, then the second item in each passed iterator is paired together, and so on. \n",
    "- If the passed iterators are of uneven length, zip will stop creating tuples when the shortest input iterable is exhausted.\n",
    "---\n",
    "\n",
    "## Why is it useful in data science?\n",
    "In data science, we often deal with **lists or sequences of data**. Sometimes, we may need to pair the elements of multiple sequences together for **processing, comparison, or visualization**."
   ]
  },
  {
   "cell_type": "code",
   "execution_count": 26,
   "id": "0f51f991",
   "metadata": {},
   "outputs": [],
   "source": [
    "#Basic Example\n",
    "names = ['Alice', 'Bob', 'Charlie']\n",
    "scores = [85, 92, 78]"
   ]
  },
  {
   "cell_type": "code",
   "execution_count": 27,
   "id": "1734e141",
   "metadata": {},
   "outputs": [
    {
     "name": "stdout",
     "output_type": "stream",
     "text": [
      "[('Alice', 85), ('Bob', 92), ('Charlie', 78)]\n"
     ]
    }
   ],
   "source": [
    "paired_data = list(zip(names, scores))\n",
    "print(paired_data)  "
   ]
  },
  {
   "cell_type": "code",
   "execution_count": null,
   "id": "ff3a357e",
   "metadata": {},
   "outputs": [],
   "source": []
  },
  {
   "cell_type": "code",
   "execution_count": 28,
   "id": "c9db0321",
   "metadata": {},
   "outputs": [],
   "source": [
    "# Data Science Example\n",
    "# Combining two lists into a dictionary, useful for creating look-up tables\n",
    "names = ['Temperature', 'Humidity', 'Rainfall']\n",
    "values = [22.5, 65, 12]"
   ]
  },
  {
   "cell_type": "code",
   "execution_count": 29,
   "id": "d0585691",
   "metadata": {},
   "outputs": [
    {
     "name": "stdout",
     "output_type": "stream",
     "text": [
      "{'Temperature': 22.5, 'Humidity': 65, 'Rainfall': 12}\n"
     ]
    }
   ],
   "source": [
    "data_dict = dict(zip(names, values))\n",
    "print(data_dict)"
   ]
  },
  {
   "cell_type": "code",
   "execution_count": null,
   "id": "e6c71d1b",
   "metadata": {},
   "outputs": [],
   "source": []
  },
  {
   "cell_type": "code",
   "execution_count": null,
   "id": "dc380419",
   "metadata": {},
   "outputs": [],
   "source": []
  },
  {
   "cell_type": "markdown",
   "id": "dfc35934",
   "metadata": {},
   "source": [
    "---\n",
    "\n",
    "# Enumerate\n",
    "---\n",
    "\n",
    "## What is `enumerate`?\n",
    "The enumerate function returns an iterator producing pairs containing indices and values of a sequence. In other words, it adds a counter to the iterable."
   ]
  },
  {
   "cell_type": "markdown",
   "id": "854a37b5",
   "metadata": {},
   "source": [
    "---\n",
    "## Why is it useful in data science?\n",
    "While processing or iterating over sequences of data, it's often helpful to have the index or position of the current item. This is especially handy when you need to reference or modify other lists or arrays based on a current position."
   ]
  },
  {
   "cell_type": "code",
   "execution_count": 30,
   "id": "f3c3c3f9",
   "metadata": {},
   "outputs": [
    {
     "name": "stdout",
     "output_type": "stream",
     "text": [
      "0 apple\n",
      "1 banana\n",
      "2 cherry\n"
     ]
    }
   ],
   "source": [
    "# basic example\n",
    "fruits = ['apple', 'banana', 'cherry']\n",
    "\n",
    "for index, fruit in enumerate(fruits):\n",
    "    print(index, fruit)"
   ]
  },
  {
   "cell_type": "code",
   "execution_count": null,
   "id": "7eb1c5e5",
   "metadata": {},
   "outputs": [],
   "source": []
  },
  {
   "cell_type": "code",
   "execution_count": 31,
   "id": "c932703f",
   "metadata": {},
   "outputs": [],
   "source": [
    "# data science example\n",
    "# Finding the position of an outlier in a data list\n",
    "data_points = [12, 15, 14, 16, 14, 1000, 15]"
   ]
  },
  {
   "cell_type": "code",
   "execution_count": 32,
   "id": "530590a8",
   "metadata": {},
   "outputs": [
    {
     "name": "stdout",
     "output_type": "stream",
     "text": [
      "Outlier value 1000 found at position 5\n"
     ]
    }
   ],
   "source": [
    "for index, value in enumerate(data_points):\n",
    "    if value > 100:  # Setting a threshold to identify an outlier\n",
    "        print(f\"Outlier value {value} found at position {index}\")"
   ]
  },
  {
   "cell_type": "markdown",
   "id": "85b79be1",
   "metadata": {},
   "source": []
  },
  {
   "cell_type": "code",
   "execution_count": null,
   "id": "0fad80b5",
   "metadata": {},
   "outputs": [],
   "source": []
  },
  {
   "cell_type": "markdown",
   "id": "cce0ce72",
   "metadata": {},
   "source": [
    "## Practice Questions\n",
    "\n",
    "### Q1. You've been given two lists. The first list contains customer names and the second list contains their corresponding email addresses. Your task is to merge these lists into a single dictionary where the customer's name is the key and their email is the value.  \n",
    "\n",
    "```python\n",
    "customer_names = ['Alex', 'Beth', 'Charlie']\n",
    "customer_emails = ['alex@example.com', 'beth@example.com', 'charlie@example.com']\n",
    "\n",
    "# expected output\n",
    "{\n",
    "    'Alex': 'alex@example.com',\n",
    "    'Beth': 'beth@example.com',\n",
    "    'Charlie': 'charlie@example.com'\n",
    "}\n",
    "\n",
    "```"
   ]
  },
  {
   "cell_type": "code",
   "execution_count": 33,
   "id": "897b4cfd",
   "metadata": {},
   "outputs": [],
   "source": [
    "customer_names = ['Alex', 'Beth', 'Charlie']\n",
    "customer_emails = ['alex@example.com', 'beth@example.com', 'charlie@example.com']\n",
    "d = zip(customer_names,customer_emails)"
   ]
  },
  {
   "cell_type": "code",
   "execution_count": 34,
   "id": "ec40303b",
   "metadata": {},
   "outputs": [
    {
     "data": {
      "text/plain": [
       "{'Alex': 'alex@example.com',\n",
       " 'Beth': 'beth@example.com',\n",
       " 'Charlie': 'charlie@example.com'}"
      ]
     },
     "execution_count": 34,
     "metadata": {},
     "output_type": "execute_result"
    }
   ],
   "source": [
    "dict(d)"
   ]
  },
  {
   "cell_type": "code",
   "execution_count": null,
   "id": "042c71bc",
   "metadata": {},
   "outputs": [],
   "source": []
  },
  {
   "cell_type": "markdown",
   "id": "89d66a7c",
   "metadata": {},
   "source": [
    "### Q2.  You've been given the names of some products and their corresponding prices. Combine these lists into a dictionary for easy lookup of product prices.\n",
    "```python\n",
    "products = ['Laptop', 'Mouse', 'Keyboard']\n",
    "prices = [1000, 20, 50]\n",
    "\n",
    "# expected output\n",
    "{\n",
    "    'Laptop': 1000,\n",
    "    'Mouse': 20,\n",
    "    'Keyboard': 50\n",
    "}\n",
    "\n",
    "```"
   ]
  },
  {
   "cell_type": "code",
   "execution_count": null,
   "id": "70ade854",
   "metadata": {},
   "outputs": [],
   "source": []
  },
  {
   "cell_type": "code",
   "execution_count": null,
   "id": "06b20b5c",
   "metadata": {},
   "outputs": [],
   "source": []
  },
  {
   "cell_type": "code",
   "execution_count": null,
   "id": "ce5c3bbb",
   "metadata": {},
   "outputs": [],
   "source": []
  },
  {
   "cell_type": "markdown",
   "id": "2e2d5bb6",
   "metadata": {},
   "source": [
    "### Q3. You have a list of products in a warehouse and you want to label each product with a unique ID starting from 1. Print out each product with its corresponding ID.\n",
    "\n",
    "```python\n",
    "products = ['Table', 'Chair', 'Desk']\n",
    "\n",
    "# expected output\n",
    "1 Table\n",
    "2 Chair\n",
    "3 Desk\n",
    "```"
   ]
  },
  {
   "cell_type": "code",
   "execution_count": null,
   "id": "172423e7",
   "metadata": {},
   "outputs": [],
   "source": []
  },
  {
   "cell_type": "code",
   "execution_count": null,
   "id": "5f5705c5",
   "metadata": {},
   "outputs": [],
   "source": []
  },
  {
   "cell_type": "markdown",
   "id": "bed7b8dd",
   "metadata": {},
   "source": [
    "### Q4. You've collected feedback from attendees after a business seminar. You want to display each feedback with its sequence number to present in a report.\n",
    "\n",
    "```python\n",
    "feedbacks = ['Great session!', 'More examples would be better.', 'Loved the hands-on activities.']\n",
    "\n",
    "# expected output\n",
    "1. Great session!\n",
    "2. More examples would be better.\n",
    "3. Loved the hands-on activities.\n",
    "```"
   ]
  },
  {
   "cell_type": "code",
   "execution_count": null,
   "id": "9b450315",
   "metadata": {},
   "outputs": [],
   "source": []
  },
  {
   "cell_type": "code",
   "execution_count": null,
   "id": "29c5fdb6",
   "metadata": {},
   "outputs": [],
   "source": []
  },
  {
   "cell_type": "code",
   "execution_count": null,
   "id": "dae0635b",
   "metadata": {},
   "outputs": [],
   "source": []
  },
  {
   "cell_type": "markdown",
   "id": "92a25dba",
   "metadata": {},
   "source": []
  }
 ],
 "metadata": {
  "kernelspec": {
   "display_name": "Python 3 (ipykernel)",
   "language": "python",
   "name": "python3"
  },
  "language_info": {
   "codemirror_mode": {
    "name": "ipython",
    "version": 3
   },
   "file_extension": ".py",
   "mimetype": "text/x-python",
   "name": "python",
   "nbconvert_exporter": "python",
   "pygments_lexer": "ipython3",
   "version": "3.11.3"
  }
 },
 "nbformat": 4,
 "nbformat_minor": 5
}
