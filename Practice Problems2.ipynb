{
 "cells": [
  {
   "cell_type": "markdown",
   "id": "6d42c2a0",
   "metadata": {},
   "source": [
    "# Pratice questions\n",
    "---\n",
    "\n",
    "## String\n",
    "\n",
    "### Q1. Create a string variable with the value \"DataScience\" and print its length. (E)"
   ]
  },
  {
   "cell_type": "code",
   "execution_count": null,
   "id": "7b04534a",
   "metadata": {},
   "outputs": [],
   "source": []
  },
  {
   "cell_type": "markdown",
   "id": "ae354760",
   "metadata": {},
   "source": [
    "### Q2. Extract the first 4 characters from the string \"MachineLearning\". (E)"
   ]
  },
  {
   "cell_type": "code",
   "execution_count": null,
   "id": "8a88768d-578e-40e3-8299-3372349784dd",
   "metadata": {
    "tags": []
   },
   "outputs": [],
   "source": []
  },
  {
   "cell_type": "code",
   "execution_count": null,
   "id": "cd8df71d-a026-4376-9b92-f0cb344a1d38",
   "metadata": {
    "tags": []
   },
   "outputs": [],
   "source": []
  },
  {
   "cell_type": "code",
   "execution_count": null,
   "id": "08b3b844-04ff-4a03-99b8-7afa72699515",
   "metadata": {
    "tags": []
   },
   "outputs": [],
   "source": []
  },
  {
   "cell_type": "code",
   "execution_count": null,
   "id": "3460b56b-b54e-484a-b2a2-f929783f6569",
   "metadata": {},
   "outputs": [],
   "source": []
  },
  {
   "cell_type": "markdown",
   "id": "5ec2df9a",
   "metadata": {},
   "source": [
    "### Q3. Convert the string \"data science\" to uppercase and split it at the space. (M)"
   ]
  },
  {
   "cell_type": "code",
   "execution_count": null,
   "id": "f96aa6ba",
   "metadata": {},
   "outputs": [],
   "source": []
  },
  {
   "cell_type": "markdown",
   "id": "4732a202",
   "metadata": {},
   "source": [
    "### Q4. Check if the string \"regression\" exists within the string \"Linear regression is a fundamental algorithm.\" (M)"
   ]
  },
  {
   "cell_type": "code",
   "execution_count": null,
   "id": "f047dddf",
   "metadata": {},
   "outputs": [],
   "source": []
  },
  {
   "cell_type": "markdown",
   "id": "31ebf2fb",
   "metadata": {},
   "source": [
    "### Q5. Write a program that counts the frequency of each character in the string \"DataVisualization\". (H)\n"
   ]
  },
  {
   "cell_type": "code",
   "execution_count": null,
   "id": "0b73b81a",
   "metadata": {},
   "outputs": [],
   "source": []
  },
  {
   "cell_type": "markdown",
   "id": "e0580ab5",
   "metadata": {},
   "source": [
    "## List"
   ]
  },
  {
   "cell_type": "code",
   "execution_count": null,
   "id": "5146b983",
   "metadata": {},
   "outputs": [],
   "source": []
  },
  {
   "cell_type": "markdown",
   "id": "980cd4bd",
   "metadata": {},
   "source": [
    "### Q1. Create a list of the first five prime numbers and print it."
   ]
  },
  {
   "cell_type": "code",
   "execution_count": null,
   "id": "fc366d67",
   "metadata": {},
   "outputs": [],
   "source": []
  },
  {
   "cell_type": "markdown",
   "id": "7caa2e97",
   "metadata": {},
   "source": [
    "### Q2.Append the number 11 to the list created in Q1."
   ]
  },
  {
   "cell_type": "code",
   "execution_count": null,
   "id": "2098beb0",
   "metadata": {},
   "outputs": [],
   "source": []
  },
  {
   "cell_type": "markdown",
   "id": "a4917672",
   "metadata": {},
   "source": [
    "### Q3.A retailer company X has stored the sales data of q year in the form of the list of a particlualr item.. Given a list of numbers, write a program to find the average.\n",
    "\n",
    "```python\n",
    "data = [45,35,87,55,65,82,93,47,88,64,44,67]\n",
    "```\n",
    "1. find the sum of the first quarter?\n",
    "2. what is maxium sale in the third quater.\n",
    "3. What is maxium average value among the 4 quarter."
   ]
  },
  {
   "cell_type": "code",
   "execution_count": null,
   "id": "b1f40daf",
   "metadata": {},
   "outputs": [],
   "source": []
  },
  {
   "cell_type": "markdown",
   "id": "d1810acd",
   "metadata": {},
   "source": [
    "### Q4. Remove the last element from the list created in Q3."
   ]
  },
  {
   "cell_type": "code",
   "execution_count": null,
   "id": "d96dca8f",
   "metadata": {},
   "outputs": [],
   "source": []
  },
  {
   "cell_type": "markdown",
   "id": "2588e5f2",
   "metadata": {},
   "source": [
    "### Q5. Implement a function that takes a list of numbers and returns a list of numbers without duplicates, but maintains the original order."
   ]
  },
  {
   "cell_type": "code",
   "execution_count": null,
   "id": "ab29da16",
   "metadata": {},
   "outputs": [],
   "source": []
  },
  {
   "cell_type": "markdown",
   "id": "a5ccadd4",
   "metadata": {},
   "source": [
    "### Q6. Given a list of strings representing data science topics, sort them based on their length."
   ]
  },
  {
   "cell_type": "code",
   "execution_count": null,
   "id": "bb98b726",
   "metadata": {},
   "outputs": [],
   "source": []
  },
  {
   "cell_type": "markdown",
   "id": "210b8ea1",
   "metadata": {},
   "source": [
    "## Tuple"
   ]
  },
  {
   "cell_type": "markdown",
   "id": "9d2d1d37",
   "metadata": {},
   "source": [
    "### Q1. Create a tuple containing three data science libraries names and print it\n",
    "(For example : Numpy, Pandas, Matplotlib)"
   ]
  },
  {
   "cell_type": "code",
   "execution_count": null,
   "id": "85ee46cf",
   "metadata": {},
   "outputs": [],
   "source": []
  },
  {
   "cell_type": "markdown",
   "id": "a71f76cc",
   "metadata": {},
   "source": [
    "### Q2. Given a tuple of data science libraries, convert it to a list and add \"Seaborn\" to it.\n",
    "libraries = ('Numpy','Pandas','Matplotlib')"
   ]
  },
  {
   "cell_type": "code",
   "execution_count": null,
   "id": "5942ce2d",
   "metadata": {},
   "outputs": [],
   "source": []
  },
  {
   "cell_type": "markdown",
   "id": "ae961a87",
   "metadata": {},
   "source": [
    "### Q3.Write a program that swaps the first and last elements of a tuple."
   ]
  },
  {
   "cell_type": "code",
   "execution_count": null,
   "id": "7028b883",
   "metadata": {},
   "outputs": [],
   "source": []
  },
  {
   "cell_type": "markdown",
   "id": "a40d73c2",
   "metadata": {},
   "source": [
    "## Set"
   ]
  },
  {
   "cell_type": "markdown",
   "id": "8e83c963",
   "metadata": {},
   "source": [
    "### Q1. Create a set of three data science tools used."
   ]
  },
  {
   "cell_type": "code",
   "execution_count": null,
   "id": "28aa5b19",
   "metadata": {},
   "outputs": [],
   "source": []
  },
  {
   "cell_type": "markdown",
   "id": "a4400786",
   "metadata": {},
   "source": [
    "### Q2. Given two sets of tools learned by the batches \n",
    "\n",
    "batch1_tools = {'Python', 'Excel', 'MySQL', 'Tableau'}  \n",
    "\n",
    "batch2_tools = {'Python', 'Excel', 'SQLite', 'PowerBI'}\n",
    "\n",
    "#### Find the tools learned in both the batches"
   ]
  },
  {
   "cell_type": "code",
   "execution_count": null,
   "id": "eca890d7",
   "metadata": {},
   "outputs": [],
   "source": []
  },
  {
   "cell_type": "markdown",
   "id": "9011ac19",
   "metadata": {},
   "source": [
    "#### Find the tools learned by the Batch 1 but not by Batch 2"
   ]
  },
  {
   "cell_type": "code",
   "execution_count": null,
   "id": "699dd6ad",
   "metadata": {},
   "outputs": [],
   "source": []
  },
  {
   "cell_type": "markdown",
   "id": "1b3a9ea0",
   "metadata": {},
   "source": [
    "#### Find the tools learned by the Batch 2 but not by Batch 1"
   ]
  },
  {
   "cell_type": "code",
   "execution_count": null,
   "id": "145cae68",
   "metadata": {},
   "outputs": [],
   "source": []
  },
  {
   "cell_type": "markdown",
   "id": "3e7aa860",
   "metadata": {},
   "source": [
    "#### Find the tools not common in both the batches. (Tools learned only by Batch 1 and only by Batch 2)"
   ]
  },
  {
   "cell_type": "code",
   "execution_count": null,
   "id": "e3787d47",
   "metadata": {},
   "outputs": [],
   "source": []
  },
  {
   "cell_type": "markdown",
   "id": "ce59ced6",
   "metadata": {},
   "source": [
    "## Dictionary"
   ]
  },
  {
   "cell_type": "markdown",
   "id": "a003cca0",
   "metadata": {},
   "source": [
    "### Q1. Create a dictionary where keys are data science tools and values are their descriptions. Add an entry for \"Pandas\" with a brief description"
   ]
  },
  {
   "cell_type": "code",
   "execution_count": null,
   "id": "465ebf36",
   "metadata": {},
   "outputs": [],
   "source": []
  },
  {
   "cell_type": "markdown",
   "id": "d75de51b",
   "metadata": {},
   "source": [
    "### Q2. Write a program that merges two dictionaries of data science libraries and their usages without overwriting the original values"
   ]
  },
  {
   "cell_type": "code",
   "execution_count": null,
   "id": "62094c3e",
   "metadata": {},
   "outputs": [],
   "source": []
  },
  {
   "cell_type": "markdown",
   "id": "69b2377a",
   "metadata": {},
   "source": [
    "## Operators:"
   ]
  },
  {
   "cell_type": "markdown",
   "id": "a08314ce",
   "metadata": {},
   "source": [
    "### Q1. Take an input of a number from the user and print the square root of it."
   ]
  },
  {
   "cell_type": "code",
   "execution_count": null,
   "id": "ec3421be",
   "metadata": {},
   "outputs": [],
   "source": []
  },
  {
   "cell_type": "markdown",
   "id": "a7a0bdee",
   "metadata": {},
   "source": [
    "### Q2. Take a number input by the user and print the digit at ones palce"
   ]
  },
  {
   "cell_type": "code",
   "execution_count": null,
   "id": "f5efe9de",
   "metadata": {},
   "outputs": [],
   "source": []
  },
  {
   "cell_type": "markdown",
   "id": "001dd3d0",
   "metadata": {},
   "source": [
    "### Q3. Take a 3-digit number input by the user and print the digit at hundreds place"
   ]
  },
  {
   "cell_type": "code",
   "execution_count": null,
   "id": "2e7ffd94",
   "metadata": {},
   "outputs": [],
   "source": []
  },
  {
   "cell_type": "markdown",
   "id": "20f27e75",
   "metadata": {},
   "source": [
    "### Q4.Given two numbers a = 10 and b = 20, print their sum, difference, product, and quotient. Check if a is greater than b."
   ]
  },
  {
   "cell_type": "code",
   "execution_count": null,
   "id": "190ff27e",
   "metadata": {},
   "outputs": [],
   "source": []
  },
  {
   "cell_type": "markdown",
   "id": "dabadfc3",
   "metadata": {},
   "source": [
    "### Q5. Convert a float number 123.456 to an integer."
   ]
  },
  {
   "cell_type": "code",
   "execution_count": null,
   "id": "0753bb44",
   "metadata": {},
   "outputs": [],
   "source": []
  },
  {
   "cell_type": "markdown",
   "id": "53489066",
   "metadata": {},
   "source": [
    "### Q6.Given a number n, use logical operators to check if n is both greater than 10 and less than 50."
   ]
  },
  {
   "cell_type": "code",
   "execution_count": null,
   "id": "7cb6f0a8",
   "metadata": {},
   "outputs": [],
   "source": []
  },
  {
   "cell_type": "markdown",
   "id": "27acf34b",
   "metadata": {},
   "source": [
    "### Q7 Write a program that checks if a given year is a leap year or not."
   ]
  },
  {
   "cell_type": "code",
   "execution_count": null,
   "id": "ca12b90c",
   "metadata": {},
   "outputs": [],
   "source": []
  },
  {
   "cell_type": "markdown",
   "id": "20b78d88",
   "metadata": {},
   "source": [
    "### Q8. Take a 3-digit number input by the user and check whether it Armstrong or not"
   ]
  },
  {
   "cell_type": "code",
   "execution_count": null,
   "id": "862ae191",
   "metadata": {},
   "outputs": [],
   "source": []
  }
 ],
 "metadata": {
  "kernelspec": {
   "display_name": "Python 3 (ipykernel)",
   "language": "python",
   "name": "python3"
  },
  "language_info": {
   "codemirror_mode": {
    "name": "ipython",
    "version": 3
   },
   "file_extension": ".py",
   "mimetype": "text/x-python",
   "name": "python",
   "nbconvert_exporter": "python",
   "pygments_lexer": "ipython3",
   "version": "3.11.3"
  }
 },
 "nbformat": 4,
 "nbformat_minor": 5
}
